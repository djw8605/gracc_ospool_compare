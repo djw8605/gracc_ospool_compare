{
 "cells": [
  {
   "cell_type": "code",
   "execution_count": 20,
   "metadata": {},
   "outputs": [
    {
     "name": "stdout",
     "output_type": "stream",
     "text": [
      "\u001b[33mWARNING: You are using pip version 22.0.4; however, version 22.1.2 is available.\n",
      "You should consider upgrading via the '/Users/derekweitzel/tmp/gracc-compare/venv/bin/python3.9 -m pip install --upgrade pip' command.\u001b[0m\u001b[33m\n",
      "\u001b[0m"
     ]
    }
   ],
   "source": [
    "!pip install -q pandas\n",
    "import pandas as pd\n",
    "import re"
   ]
  },
  {
   "cell_type": "code",
   "execution_count": 55,
   "metadata": {},
   "outputs": [],
   "source": [
    "# Read in the 2 csv files\n",
    "gracc_df = pd.read_csv('GRACC-OSPool-July-2021-2022.csv', thousands=',')\n",
    "gracc_df.rename(columns={'Sum of CoreHours': 'GRACC Hours'}, inplace=True)\n",
    "\n",
    "\n",
    "ospool_df = pd.read_csv('HTCondor-OSPool-July-2021-2022.csv')\n",
    "ospool_df.rename(columns={'Hours': 'OSPool Hours'}, inplace=True)\n",
    "#ospool_df.head()\n"
   ]
  },
  {
   "cell_type": "code",
   "execution_count": 56,
   "metadata": {},
   "outputs": [
    {
     "data": {
      "text/html": [
       "<div>\n",
       "<style scoped>\n",
       "    .dataframe tbody tr th:only-of-type {\n",
       "        vertical-align: middle;\n",
       "    }\n",
       "\n",
       "    .dataframe tbody tr th {\n",
       "        vertical-align: top;\n",
       "    }\n",
       "\n",
       "    .dataframe thead th {\n",
       "        text-align: right;\n",
       "    }\n",
       "</style>\n",
       "<table border=\"1\" class=\"dataframe\">\n",
       "  <thead>\n",
       "    <tr style=\"text-align: right;\">\n",
       "      <th></th>\n",
       "      <th>Project</th>\n",
       "      <th>Field of Science</th>\n",
       "      <th>GRACC Hours</th>\n",
       "      <th>Rank</th>\n",
       "      <th>OSPool Hours</th>\n",
       "    </tr>\n",
       "  </thead>\n",
       "  <tbody>\n",
       "    <tr>\n",
       "      <th>0</th>\n",
       "      <td>Hawaii_Doetinchem</td>\n",
       "      <td>Physics</td>\n",
       "      <td>19750257.6</td>\n",
       "      <td>1.0</td>\n",
       "      <td>19676436.0</td>\n",
       "    </tr>\n",
       "    <tr>\n",
       "      <th>1</th>\n",
       "      <td>TG-CHE200122</td>\n",
       "      <td>Chemistry</td>\n",
       "      <td>19157805.6</td>\n",
       "      <td>3.0</td>\n",
       "      <td>17166300.0</td>\n",
       "    </tr>\n",
       "    <tr>\n",
       "      <th>2</th>\n",
       "      <td>WSU_3DHydro</td>\n",
       "      <td>Physics</td>\n",
       "      <td>18158021.9</td>\n",
       "      <td>2.0</td>\n",
       "      <td>17773241.0</td>\n",
       "    </tr>\n",
       "    <tr>\n",
       "      <th>3</th>\n",
       "      <td>spt.all</td>\n",
       "      <td>Astronomy</td>\n",
       "      <td>11734939.9</td>\n",
       "      <td>39.0</td>\n",
       "      <td>900895.0</td>\n",
       "    </tr>\n",
       "    <tr>\n",
       "      <th>4</th>\n",
       "      <td>eht</td>\n",
       "      <td>Astronomy</td>\n",
       "      <td>9728498.4</td>\n",
       "      <td>5.0</td>\n",
       "      <td>9699502.0</td>\n",
       "    </tr>\n",
       "    <tr>\n",
       "      <th>...</th>\n",
       "      <td>...</td>\n",
       "      <td>...</td>\n",
       "      <td>...</td>\n",
       "      <td>...</td>\n",
       "      <td>...</td>\n",
       "    </tr>\n",
       "    <tr>\n",
       "      <th>233</th>\n",
       "      <td>osg.NeuroscienceGateway</td>\n",
       "      <td>NaN</td>\n",
       "      <td>0.0</td>\n",
       "      <td>49.0</td>\n",
       "      <td>511019.0</td>\n",
       "    </tr>\n",
       "    <tr>\n",
       "      <th>234</th>\n",
       "      <td>snowmass21.energy</td>\n",
       "      <td>NaN</td>\n",
       "      <td>0.0</td>\n",
       "      <td>81.0</td>\n",
       "      <td>31223.0</td>\n",
       "    </tr>\n",
       "    <tr>\n",
       "      <th>235</th>\n",
       "      <td>duke.wfirst</td>\n",
       "      <td>NaN</td>\n",
       "      <td>0.0</td>\n",
       "      <td>88.0</td>\n",
       "      <td>21142.0</td>\n",
       "    </tr>\n",
       "    <tr>\n",
       "      <th>236</th>\n",
       "      <td>UTEP_DeBlasio</td>\n",
       "      <td>NaN</td>\n",
       "      <td>0.0</td>\n",
       "      <td>38.0</td>\n",
       "      <td>903608.0</td>\n",
       "    </tr>\n",
       "    <tr>\n",
       "      <th>237</th>\n",
       "      <td>UCIAtlas</td>\n",
       "      <td>NaN</td>\n",
       "      <td>0.0</td>\n",
       "      <td>94.0</td>\n",
       "      <td>9628.0</td>\n",
       "    </tr>\n",
       "  </tbody>\n",
       "</table>\n",
       "<p>238 rows × 5 columns</p>\n",
       "</div>"
      ],
      "text/plain": [
       "                     Project Field of Science  GRACC Hours  Rank  OSPool Hours\n",
       "0          Hawaii_Doetinchem          Physics   19750257.6   1.0    19676436.0\n",
       "1               TG-CHE200122        Chemistry   19157805.6   3.0    17166300.0\n",
       "2                WSU_3DHydro          Physics   18158021.9   2.0    17773241.0\n",
       "3                    spt.all        Astronomy   11734939.9  39.0      900895.0\n",
       "4                        eht        Astronomy    9728498.4   5.0     9699502.0\n",
       "..                       ...              ...          ...   ...           ...\n",
       "233  osg.NeuroscienceGateway              NaN          0.0  49.0      511019.0\n",
       "234        snowmass21.energy              NaN          0.0  81.0       31223.0\n",
       "235              duke.wfirst              NaN          0.0  88.0       21142.0\n",
       "236            UTEP_DeBlasio              NaN          0.0  38.0      903608.0\n",
       "237                 UCIAtlas              NaN          0.0  94.0        9628.0\n",
       "\n",
       "[238 rows x 5 columns]"
      ]
     },
     "execution_count": 56,
     "metadata": {},
     "output_type": "execute_result"
    }
   ],
   "source": [
    "# Merge the 2 dataframes\n",
    "missing_in_ospool = set(gracc_df['Project'].tolist()) - set(ospool_df['Project'].tolist())\n",
    "missing_in_gracc = set(ospool_df['Project'].tolist()) - set(gracc_df['Project'].tolist())\n",
    "#print(\"Missing in OSPool: \" + str(missing_in_ospool))\n",
    "#print(\"Missing in GRACC: \" + str(missing_in_gracc))\n",
    "gracc_ospool_df = pd.merge(gracc_df, ospool_df, on='Project')\n",
    "\n",
    "# Now add in the missing projects\n",
    "for project in missing_in_ospool:\n",
    "    gracc_ospool_df = pd.concat([gracc_ospool_df, gracc_df[gracc_df['Project'] == project]], axis=0, join='outer', ignore_index=True)\n",
    "    gracc_ospool_df.loc[gracc_ospool_df['Project'] == project, 'OSPool Hours'] = 0\n",
    "for project in missing_in_gracc:\n",
    "    gracc_ospool_df = pd.concat([gracc_ospool_df, ospool_df[ospool_df['Project'] == project]], axis=0, join='outer', ignore_index=True)\n",
    "    gracc_ospool_df.loc[gracc_ospool_df['Project'] == project, 'GRACC Hours'] = 0\n",
    "\n",
    "gracc_ospool_df\n"
   ]
  },
  {
   "cell_type": "code",
   "execution_count": 57,
   "metadata": {},
   "outputs": [],
   "source": [
    "# Calculate the percent difference between gracc hours and ospool hours\n",
    "gracc_ospool_df['Percent Difference'] = (gracc_ospool_df['GRACC Hours'] - gracc_ospool_df['OSPool Hours']) / gracc_ospool_df['OSPool Hours']"
   ]
  },
  {
   "cell_type": "code",
   "execution_count": 58,
   "metadata": {},
   "outputs": [],
   "source": [
    "gracc_ospool_df.to_csv('gracc_ospool_df.csv')"
   ]
  },
  {
   "cell_type": "code",
   "execution_count": null,
   "metadata": {},
   "outputs": [],
   "source": []
  }
 ],
 "metadata": {
  "kernelspec": {
   "display_name": "Python 3.9.12 ('venv')",
   "language": "python",
   "name": "python3"
  },
  "language_info": {
   "codemirror_mode": {
    "name": "ipython",
    "version": 3
   },
   "file_extension": ".py",
   "mimetype": "text/x-python",
   "name": "python",
   "nbconvert_exporter": "python",
   "pygments_lexer": "ipython3",
   "version": "3.9.12"
  },
  "orig_nbformat": 4,
  "vscode": {
   "interpreter": {
    "hash": "1dfeef5509810ac759924761eb6f351af4fbd6efc0c8b19ea6edfc19c9e19cbf"
   }
  }
 },
 "nbformat": 4,
 "nbformat_minor": 2
}
